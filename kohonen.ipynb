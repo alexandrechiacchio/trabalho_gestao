{
 "cells": [
  {
   "cell_type": "code",
   "execution_count": null,
   "id": "ff8562cb",
   "metadata": {},
   "outputs": [],
   "source": [
    "import numpy as np\n",
    "from sklearn.datasets import load_iris\n",
    "import matplotlib.pyplot as plt\n",
    "import matplotlib.colors as mcolors\n",
    "import matplotlib\n",
    "print(matplotlib.get_backend())\n",
    "# matplotlib.use('TkAgg')"
   ]
  },
  {
   "cell_type": "code",
   "execution_count": null,
   "id": "7d929c0f",
   "metadata": {},
   "outputs": [],
   "source": [
    "data = load_iris()\n",
    "X, y = data['data'], data['target']\n",
    "data['feature_names']"
   ]
  },
  {
   "cell_type": "code",
   "execution_count": null,
   "id": "26708c1d",
   "metadata": {},
   "outputs": [],
   "source": [
    "def distance(p1 : np.ndarray,p2: np.ndarray) -> np.float64:\n",
    "    return np.sqrt(np.sum((p1-p2)**2))\n",
    "\n",
    "def neighbourhood(v1 : np.ndarray, v2 : np.ndarray) -> float:\n",
    "    return np.power(2.0, -np.sum((np.abs(v1 - v2))))\n",
    "\n",
    "def learningRateSchedule(epoch: int, maxEpochs: int) -> float:\n",
    "    return 1.0 - (epoch / maxEpochs)"
   ]
  },
  {
   "cell_type": "code",
   "execution_count": null,
   "id": "2803b2ab",
   "metadata": {},
   "outputs": [],
   "source": [
    "# Test the distance function with two sample points from X\n",
    "p1 = np.array([1, 2])\n",
    "p2 = np.array([1, 0])\n",
    "print(f\"Distance between {p1} and {p2}:\", distance(p1, p2))\n",
    "\n",
    "p1 = np.array([0, 0])\n",
    "p2 = np.array([0, 0])\n",
    "print(f\"neighbourhood between {p1} and {p2}:\", neighbourhood(p1, p2))\n"
   ]
  },
  {
   "cell_type": "code",
   "execution_count": null,
   "id": "c51f25ac",
   "metadata": {},
   "outputs": [],
   "source": [
    "def kohonen(X: np.ndarray, gridSize : int = 3, max_epoch : int = 1000, learningRate : float = 0.1, plot : bool = False):\n",
    "\n",
    "    maxX = np.max(X[:, 0])\n",
    "    minX = np.min(X[:, 0])\n",
    "    maxY = np.max(X[:, 1])\n",
    "    minY = np.min(X[:, 1])\n",
    "    \n",
    "    # Create initial grid within the data bounds\n",
    "    xs = np.linspace(minX, maxX, gridSize)\n",
    "    ys = np.linspace(minY, maxY, gridSize)\n",
    "    grid = np.array([[np.array([x, y], dtype=float) for y in ys] for x in xs])\n",
    "\n",
    "\n",
    "    fig, ax = plt.subplots() if plot else (None, None) \n",
    "    for epoch in range(max_epoch):  # Number of epochs can be adjusted\n",
    "          \n",
    "        rand_idx = np.random.randint(0, X.shape[0])\n",
    "        # Flatten the grid for distance calculation\n",
    "        # Find BMU (Best Matching Unit) directly in the 2D grid\n",
    "        min_dist = float('inf')\n",
    "        bmu_coords = (0, 0)\n",
    "        for i in range(gridSize):\n",
    "            for j in range(gridSize):\n",
    "                dist = distance(X[rand_idx], grid[i][j])\n",
    "                if dist < min_dist:\n",
    "                    min_dist = dist\n",
    "                    bmu_coords = (i, j)\n",
    "        bmu = grid[bmu_coords[0]][bmu_coords[1]]\n",
    "          \n",
    "        if(plot):\n",
    "            ax.clear()\n",
    "            ax.scatter(X[:, 0], X[:, 1], c='blue', label='Data Points')\n",
    "            # Convert grid to numpy array for easier indexing\n",
    "            grid_np = np.array(grid).reshape(-1, 2)\n",
    "            ax.scatter(grid_np[:, 0], grid_np[:, 1], c='red', marker='x', label='Grid Nodes')\n",
    "\n",
    "            # Draw lines between adjacent grid nodes in the mesh\n",
    "            grid_np_2d = np.array(grid)\n",
    "            for i in range(gridSize):\n",
    "                for j in range(gridSize):\n",
    "                    if i + 1 < gridSize:\n",
    "                        p1 = grid_np_2d[i][j]\n",
    "                        p2 = grid_np_2d[i+1][j]\n",
    "                        ax.plot([p1[0], p2[0]], [p1[1], p2[1]], color='gray', linewidth=0.5, alpha=0.5)\n",
    "                    if j + 1 < gridSize:\n",
    "                        p1 = grid_np_2d[i][j]\n",
    "                        p2 = grid_np_2d[i][j+1]\n",
    "                        ax.plot([p1[0], p2[0]], [p1[1], p2[1]], color='gray', linewidth=0.5, alpha=0.5)\n",
    "\n",
    "            # Highlight the current random data point and the BMU\n",
    "            ax.scatter(X[rand_idx, 0], X[rand_idx, 1], c='green', s=100, marker='o', label='Current Data Point')\n",
    "            ax.scatter(grid[bmu_coords[0]][bmu_coords[1]][0], grid[bmu_coords[0]][bmu_coords[1]][1], \n",
    "                c='orange', s=100, marker='s', label='BMU')\n",
    "\n",
    "            ax.set_title(f'Grid Nodes at Epoch {epoch+1}')\n",
    "            ax.set_xlabel('Feature 1')\n",
    "            ax.set_ylabel('Feature 2')\n",
    "            ax.legend()\n",
    "            plt.pause(0.01)\n",
    "            \n",
    "            \n",
    "        \n",
    "        for i in range(gridSize):\n",
    "            for j in range(gridSize):\n",
    "                # Update the grid node based on the BMU and learning rate\n",
    "                grid[i][j] += (X[rand_idx] - grid[i][j]) * learningRate * learningRateSchedule(epoch, max_epoch) * neighbourhood(np.array([bmu_coords[0], bmu_coords[1]]), np.array([i, j]))\n",
    "        # for i, g in enumerate(grid):\n",
    "        #     grid[i] += (X[rand_idx] - g)*learningRate*learningRateSchedule(epoch, max_epoch) * neighbourhood(grid[bmu], g)\n",
    "            \n",
    "        \n",
    "    return grid"
   ]
  },
  {
   "cell_type": "markdown",
   "id": "62de210d",
   "metadata": {},
   "source": [
    "para ver a animação do mapa em treinamento, usar o parâmentro `plot=True` e o backend `matplotlib.use('TkAgg')`"
   ]
  },
  {
   "cell_type": "code",
   "execution_count": null,
   "id": "aa6f071f",
   "metadata": {},
   "outputs": [],
   "source": [
    "from sklearn.datasets import make_blobs\n",
    "\n",
    "# dataset artificial para teste\n",
    "\n",
    "# # Generate artificial blob data\n",
    "X_blob, y_blob = make_blobs(n_samples=1000, centers=1, n_features=2, random_state=3)\n",
    "# plt.scatter(X_blob[:, 0], X_blob[:, 1], c=y_blob, cmap='viridis')\n",
    "# plt.title('Artificial Blob Data')\n",
    "# plt.xlabel('Feature 1')\n",
    "# plt.ylabel('Feature 2')\n",
    "# plt.show()"
   ]
  },
  {
   "cell_type": "code",
   "execution_count": null,
   "id": "e2d64ebb",
   "metadata": {},
   "outputs": [],
   "source": [
    "# descomente as linhas abaixo para ver a animação do mapa em treinamento num dataset artificial\n",
    "\n",
    "# matplotlib.use('TkAgg') # \n",
    "# example_grid = kohonen(X_blob, 9, 400, 1.0, plot=True) # "
   ]
  },
  {
   "cell_type": "code",
   "execution_count": null,
   "id": "24777280",
   "metadata": {},
   "outputs": [],
   "source": [
    "# kohonen(X, 2, 100, visualise=True)\n",
    "# matplotlib.use('TkAgg')\n",
    "data = X[:, :2]\n",
    "data2 = X[:, 2:4]\n",
    "\n",
    "\n",
    "grid = kohonen(X_blob, 2, 100, 1.0, plot=False)\n",
    "grid2 = kohonen(X_blob, 5, 100, 1.0, plot=False)\n",
    "grid3 = kohonen(X_blob, 7, 100, 1.0, plot=False)\n",
    "grid4 = kohonen(X_blob, 15, 10000, 1.0, plot=False)"
   ]
  },
  {
   "cell_type": "code",
   "execution_count": null,
   "id": "f5508c6a",
   "metadata": {},
   "outputs": [],
   "source": [
    "def plot_grid(grid, X, title='Grid Plot'):\n",
    "    fig, ax = plt.subplots()\n",
    "    gridSize = len(grid)  # Assuming grid is a square grid\n",
    "    ax.clear()\n",
    "    ax.scatter(X[:, 0], X[:, 1], c='blue', label='Data Points')\n",
    "    # Convert grid to numpy array for easier indexing\n",
    "    grid_np = np.array(grid).reshape(-1, 2)\n",
    "    ax.scatter(grid_np[:, 0], grid_np[:, 1], c='red', marker='x', label='Grid Nodes')\n",
    "\n",
    "    # Draw lines between adjacent grid nodes in the mesh\n",
    "    grid_np_2d = np.array(grid)\n",
    "    for i in range(gridSize):\n",
    "        for j in range(gridSize):\n",
    "            if i + 1 < gridSize:\n",
    "                p1 = grid_np_2d[i][j]\n",
    "                p2 = grid_np_2d[i+1][j]\n",
    "                ax.plot([p1[0], p2[0]], [p1[1], p2[1]], color='gray', linewidth=0.5, alpha=0.5)\n",
    "            if j + 1 < gridSize:\n",
    "                p1 = grid_np_2d[i][j]\n",
    "                p2 = grid_np_2d[i][j+1]\n",
    "                ax.plot([p1[0], p2[0]], [p1[1], p2[1]], color='gray', linewidth=0.5, alpha=0.5)\n",
    "\n",
    "    ax.set_title(title)\n",
    "    ax.set_xlabel('Feature 1')\n",
    "    ax.set_ylabel('Feature 2')\n",
    "    ax.legend()\n",
    "    plt.show()"
   ]
  },
  {
   "cell_type": "code",
   "execution_count": null,
   "id": "b469a315",
   "metadata": {},
   "outputs": [],
   "source": [
    "plot_grid(grid, X_blob, title='Kohonen com mapa 2x2')\n",
    "plot_grid(grid2, X_blob, title='Kohonen com mapa 5x5')\n",
    "plot_grid(grid3, X_blob, title='Kohonen com mapa 7x7')\n",
    "plot_grid(grid4, X_blob, title='Kohonen com mapa 12x12')"
   ]
  },
  {
   "cell_type": "code",
   "execution_count": null,
   "id": "83839d0a",
   "metadata": {},
   "outputs": [],
   "source": [
    "g = kohonen(data, 10, 100, 1.0, plot=False)\n",
    "plot_grid(g, data, title='Kohonen Iris com mapa 10x10 e 100 épocas')\n",
    "\n",
    "g = kohonen(data, 10, 1000, 1.0, plot=False)\n",
    "plot_grid(g, data, title='Kohonen Iris com mapa 10x10 e 1000 épocas')\n",
    "\n",
    "g = kohonen(data, 10, 10000, 1.0, plot=False)\n",
    "plot_grid(g, data, title='Kohonen Iris com mapa 10x10 e 10000 épocas')"
   ]
  },
  {
   "cell_type": "code",
   "execution_count": null,
   "id": "8f72da0b",
   "metadata": {},
   "outputs": [],
   "source": [
    "g = kohonen(data, 3, 1000, 1.0, plot=False)\n",
    "plot_grid(g, data, title='Kohonen Iris com mapa 3x3 e 1000 épocas')\n",
    "\n",
    "g = kohonen(data, 7, 1000, 1.0, plot=False)\n",
    "plot_grid(g, data, title='Kohonen Iris com mapa 7x7 e 1000 épocas')\n",
    "\n",
    "g = kohonen(data, 12, 1000, 1.0, plot=False)\n",
    "plot_grid(g, data, title='Kohonen Iris com mapa 12x12 e 1000 épocas')"
   ]
  }
 ],
 "metadata": {
  "kernelspec": {
   "display_name": "env",
   "language": "python",
   "name": "python3"
  },
  "language_info": {
   "codemirror_mode": {
    "name": "ipython",
    "version": 3
   },
   "file_extension": ".py",
   "mimetype": "text/x-python",
   "name": "python",
   "nbconvert_exporter": "python",
   "pygments_lexer": "ipython3",
   "version": "3.12.3"
  }
 },
 "nbformat": 4,
 "nbformat_minor": 5
}
