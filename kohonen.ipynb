{
 "cells": [
  {
   "cell_type": "code",
   "execution_count": 1,
   "id": "ff8562cb",
   "metadata": {},
   "outputs": [
    {
     "name": "stdout",
     "output_type": "stream",
     "text": [
      "module://matplotlib_inline.backend_inline\n"
     ]
    }
   ],
   "source": [
    "import numpy as np\n",
    "from sklearn.datasets import load_iris\n",
    "import matplotlib.pyplot as plt\n",
    "import matplotlib.colors as mcolors\n",
    "import matplotlib\n",
    "print(matplotlib.get_backend())\n",
    "matplotlib.use('TkAgg')"
   ]
  },
  {
   "cell_type": "code",
   "execution_count": 2,
   "id": "7d929c0f",
   "metadata": {},
   "outputs": [
    {
     "data": {
      "text/plain": [
       "['sepal length (cm)',\n",
       " 'sepal width (cm)',\n",
       " 'petal length (cm)',\n",
       " 'petal width (cm)']"
      ]
     },
     "execution_count": 2,
     "metadata": {},
     "output_type": "execute_result"
    }
   ],
   "source": [
    "data = load_iris()\n",
    "X, y = data['data'], data['target']\n",
    "data['feature_names']"
   ]
  },
  {
   "cell_type": "code",
   "execution_count": 3,
   "id": "26708c1d",
   "metadata": {},
   "outputs": [],
   "source": [
    "def distance(p1 : np.ndarray,p2: np.ndarray) -> np.float64:\n",
    "    return np.sqrt(np.sum((p1-p2)**2))\n",
    "\n",
    "def neighbourhood(v1 : np.ndarray, v2 : np.ndarray) -> float:\n",
    "    return np.power(2, -np.sum((np.abs(v1 - v2))))\n",
    "\n",
    "def learningRateSchedule(epoch: int, maxEpochs: int) -> float:\n",
    "    return 1.0 - (epoch / maxEpochs)"
   ]
  },
  {
   "cell_type": "code",
   "execution_count": 15,
   "id": "c51f25ac",
   "metadata": {},
   "outputs": [],
   "source": [
    "def kohonen(X: np.ndarray, gridSize : int = 3, max_epoch : int = 1000, learningRate : float = 0.1, plot : bool = False):\n",
    "\n",
    "    maxX = np.max(X[:, 0])\n",
    "    minX = np.min(X[:, 0])\n",
    "    maxY = np.max(X[:, 1])\n",
    "    minY = np.min(X[:, 1])\n",
    "    \n",
    "    # Create initial grid within the data bounds\n",
    "    xs = np.linspace(minX, maxX, gridSize)\n",
    "    ys = np.linspace(minY, maxY, gridSize)\n",
    "    grid = np.array([[np.array([x, y], dtype=float) for y in ys] for x in xs])\n",
    "\n",
    "\n",
    "    matplotlib.use('TkAgg')\n",
    "    fig, ax = plt.subplots()\n",
    "    for epoch in range(max_epoch):  # Number of epochs can be adjusted\n",
    "          \n",
    "        rand_idx = np.random.randint(0, X.shape[0])\n",
    "        # Flatten the grid for distance calculation\n",
    "        # Find BMU (Best Matching Unit) directly in the 2D grid\n",
    "        min_dist = float('inf')\n",
    "        bmu_coords = (0, 0)\n",
    "        for i in range(gridSize):\n",
    "            for j in range(gridSize):\n",
    "                dist = distance(X[rand_idx], grid[i][j])\n",
    "                if dist < min_dist:\n",
    "                    min_dist = dist\n",
    "                    bmu_coords = (i, j)\n",
    "        bmu = grid[bmu_coords[0]][bmu_coords[1]]\n",
    "          \n",
    "        if(plot):\n",
    "            ax.clear()\n",
    "            ax.scatter(X[:, 0], X[:, 1], c='blue', label='Data Points')\n",
    "            # Convert grid to numpy array for easier indexing\n",
    "            grid_np = np.array(grid).reshape(-1, 2)\n",
    "            ax.scatter(grid_np[:, 0], grid_np[:, 1], c='red', marker='x', label='Grid Nodes')\n",
    "\n",
    "            # Draw lines between adjacent grid nodes in the mesh\n",
    "            grid_np_2d = np.array(grid)\n",
    "            for i in range(gridSize):\n",
    "                for j in range(gridSize):\n",
    "                    if i + 1 < gridSize:\n",
    "                        p1 = grid_np_2d[i][j]\n",
    "                        p2 = grid_np_2d[i+1][j]\n",
    "                        ax.plot([p1[0], p2[0]], [p1[1], p2[1]], color='gray', linewidth=0.5, alpha=0.5)\n",
    "                    if j + 1 < gridSize:\n",
    "                        p1 = grid_np_2d[i][j]\n",
    "                        p2 = grid_np_2d[i][j+1]\n",
    "                        ax.plot([p1[0], p2[0]], [p1[1], p2[1]], color='gray', linewidth=0.5, alpha=0.5)\n",
    "\n",
    "            # Highlight the current random data point and the BMU\n",
    "            ax.scatter(X[rand_idx, 0], X[rand_idx, 1], c='green', s=100, marker='o', label='Current Data Point')\n",
    "            ax.scatter(grid[bmu_coords[0]][bmu_coords[1]][0], grid[bmu_coords[0]][bmu_coords[1]][1], \n",
    "                c='orange', s=100, marker='s', label='BMU')\n",
    "\n",
    "            ax.set_title(f'Grid Nodes at Epoch {epoch+1}')\n",
    "            ax.set_xlabel('Feature 1')\n",
    "            ax.set_ylabel('Feature 2')\n",
    "            ax.legend()\n",
    "            plt.pause(0.1)\n",
    "            \n",
    "            \n",
    "            \n",
    "        for i in range(gridSize):\n",
    "            for j in range(gridSize):\n",
    "                g = grid[i][j]\n",
    "                # Update the grid node based on the BMU and learning rate\n",
    "                grid[i][j] += (X[rand_idx] - grid[i][j]) * learningRate * learningRateSchedule(epoch, max_epoch) * neighbourhood(np.array([bmu[0], bmu[1]]), np.array([i, j]))\n",
    "        # for i, g in enumerate(grid):\n",
    "        #     grid[i] += (X[rand_idx] - g)*learningRate*learningRateSchedule(epoch, max_epoch) * neighbourhood(grid[bmu], g)\n",
    "            \n",
    "        \n",
    "    return grid"
   ]
  },
  {
   "cell_type": "code",
   "execution_count": 12,
   "id": "24777280",
   "metadata": {},
   "outputs": [],
   "source": [
    "# kohonen(X, 2, 100, visualise=True)\n",
    "grid = kohonen(X[:, :2], 3, 1000, 0.3)"
   ]
  },
  {
   "cell_type": "code",
   "execution_count": 13,
   "id": "6548c560",
   "metadata": {},
   "outputs": [],
   "source": [
    "def drawGrid(X, grid):\n",
    "    gridSize = len(grid)\n",
    "    fig, ax = plt.subplots()\n",
    "    ax.clear()\n",
    "    ax.scatter(X[:, 0], X[:, 1], c='blue', label='Data Points')\n",
    "    # Convert grid to numpy array for easier indexing\n",
    "    grid_np = np.array(grid).reshape(-1, 2)\n",
    "    ax.scatter(grid_np[:, 0], grid_np[:, 1], c='red', marker='x', label='Grid Nodes')\n",
    "\n",
    "    # Draw lines between adjacent grid nodes in the mesh\n",
    "    grid_np_2d = np.array(grid)\n",
    "    for i in range(gridSize):\n",
    "        for j in range(gridSize):\n",
    "            if i + 1 < gridSize:\n",
    "                p1 = grid_np_2d[i][j]\n",
    "                p2 = grid_np_2d[i+1][j]\n",
    "                ax.plot([p1[0], p2[0]], [p1[1], p2[1]], color='gray', linewidth=0.5, alpha=0.5)\n",
    "            if j + 1 < gridSize:\n",
    "                p1 = grid_np_2d[i][j]\n",
    "                p2 = grid_np_2d[i][j+1]\n",
    "                ax.plot([p1[0], p2[0]], [p1[1], p2[1]], color='gray', linewidth=0.5, alpha=0.5)\n",
    "\n",
    "    ax.set_title(f'Final Grid Nodes')\n",
    "    ax.set_xlabel('Feature 1')\n",
    "    ax.set_ylabel('Feature 2')\n",
    "    ax.legend()\n",
    "    plt.show()\n"
   ]
  },
  {
   "cell_type": "code",
   "execution_count": 14,
   "id": "b0c33892",
   "metadata": {},
   "outputs": [],
   "source": [
    "drawGrid(X, grid)"
   ]
  }
 ],
 "metadata": {
  "kernelspec": {
   "display_name": "env",
   "language": "python",
   "name": "python3"
  },
  "language_info": {
   "codemirror_mode": {
    "name": "ipython",
    "version": 3
   },
   "file_extension": ".py",
   "mimetype": "text/x-python",
   "name": "python",
   "nbconvert_exporter": "python",
   "pygments_lexer": "ipython3",
   "version": "3.12.3"
  }
 },
 "nbformat": 4,
 "nbformat_minor": 5
}
