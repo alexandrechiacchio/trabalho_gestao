{
 "cells": [
  {
   "cell_type": "code",
   "execution_count": 1,
   "id": "0709d734",
   "metadata": {},
   "outputs": [],
   "source": [
    "import numpy as np\n",
    "from sklearn.datasets import load_iris\n",
    "import matplotlib.pyplot as plt\n",
    "import matplotlib.colors as mcolors"
   ]
  },
  {
   "cell_type": "code",
   "execution_count": 2,
   "id": "59f9f8a4",
   "metadata": {},
   "outputs": [
    {
     "data": {
      "text/plain": [
       "['sepal length (cm)',\n",
       " 'sepal width (cm)',\n",
       " 'petal length (cm)',\n",
       " 'petal width (cm)']"
      ]
     },
     "execution_count": 2,
     "metadata": {},
     "output_type": "execute_result"
    }
   ],
   "source": [
    "data = load_iris()\n",
    "X, y = data['data'], data['target']\n",
    "data['feature_names']"
   ]
  },
  {
   "cell_type": "code",
   "execution_count": 3,
   "id": "aac3e1e5",
   "metadata": {},
   "outputs": [],
   "source": [
    "def distance(p1 : np.ndarray,p2: np.ndarray) -> np.float64:\n",
    "    return np.sqrt(np.sum((p1-p2)**2))\n",
    "\n",
    "def rangeQuery(data, p, eps):\n",
    "    ret = []\n",
    "    for i, point in enumerate(data):\n",
    "        if(distance(p, point) < eps): ret.append((i, point))\n",
    "    return ret"
   ]
  },
  {
   "cell_type": "code",
   "execution_count": 4,
   "id": "9e467151",
   "metadata": {},
   "outputs": [],
   "source": [
    "def dbscan(data, eps : float = 1.5e0 , minPts : int = 3):\n",
    "    c = 0\n",
    "    label = [-1 for _ in data] # -1 for noise\n",
    "    label_counter = -1\n",
    "    vis = [False for _ in data]\n",
    "    for i, point in enumerate(data):\n",
    "        if(vis[i]): continue\n",
    "        \n",
    "        vis[i] = True\n",
    "        queue = rangeQuery(data, point, eps)\n",
    "        if(len(queue) < minPts):\n",
    "            continue\n",
    "        label_counter += 1\n",
    "        for i, point in queue: label[i] = label_counter\n",
    "        while(len(queue)):\n",
    "            current = queue[-1]\n",
    "            queue.pop()\n",
    "            neighbors = rangeQuery(data, point, eps)\n",
    "            if(len(neighbors) < minPts): continue\n",
    "            for i, point in neighbors:\n",
    "                if(not vis[i]):\n",
    "                    queue.append((i, point))\n",
    "                    vis[i] = True\n",
    "                    label[i] = label_counter\n",
    "    \n",
    "    return label, label_counter"
   ]
  },
  {
   "cell_type": "code",
   "execution_count": 5,
   "id": "33ec0299",
   "metadata": {},
   "outputs": [],
   "source": [
    "from scipy.optimize import linear_sum_assignment\n",
    "import numpy as np\n",
    "\n",
    "def clustering_accuracy(true_labels, predicted_labels):\n",
    "    \"\"\"\n",
    "    Computes clustering accuracy by finding the best label permutation.\n",
    "    Only works if the number of clusters matches the number of classes.\n",
    "    \"\"\"\n",
    "\n",
    "    true_labels = np.asarray(true_labels)\n",
    "    predicted_labels = np.asarray(predicted_labels)\n",
    "\n",
    "    # Build the confusion matrix\n",
    "    D = max(predicted_labels.max(), true_labels.max()) + 1\n",
    "    confusion_matrix = np.zeros((D, D), dtype=np.int64)\n",
    "    for i in range(true_labels.size):\n",
    "        confusion_matrix[predicted_labels[i], true_labels[i]] += 1\n",
    "\n",
    "    # Find optimal assignment\n",
    "    row_ind, col_ind = linear_sum_assignment(-confusion_matrix)\n",
    "    accuracy = confusion_matrix[row_ind, col_ind].sum() / true_labels.size\n",
    "    return accuracy"
   ]
  },
  {
   "cell_type": "code",
   "execution_count": 6,
   "id": "7a9acb41",
   "metadata": {},
   "outputs": [
    {
     "name": "stdout",
     "output_type": "stream",
     "text": [
      "Best accuracy: 0.887\n"
     ]
    }
   ],
   "source": [
    "parameters_acc = []\n",
    "biggest_acc = 0\n",
    "for eps in np.arange(0.1, 3, 0.1):\n",
    "    for minPts in range(2, 10):\n",
    "        myDBSCANLabels, myDBSCANLabelCounter = dbscan(X, eps, minPts)\n",
    "        acc = clustering_accuracy(y, myDBSCANLabels)\n",
    "        if(biggest_acc < acc):\n",
    "            biggest_acc = acc\n",
    "        parameters_acc.append((eps, minPts, acc))\n",
    "        # print(f\"eps: {eps:.3f}, minPts: {minPts}, clusters found: {myDBSCANLabelCounter + 1}, accuracy: {acc:.3f}\")\n",
    "        \n",
    "print(f\"Best accuracy: {biggest_acc:.3f}\")"
   ]
  },
  {
   "cell_type": "code",
   "execution_count": 7,
   "id": "475780a9",
   "metadata": {},
   "outputs": [],
   "source": [
    "parameters_acc.sort(key=lambda x: x[2], reverse=True)"
   ]
  },
  {
   "cell_type": "code",
   "execution_count": 8,
   "id": "86c03809",
   "metadata": {},
   "outputs": [
    {
     "data": {
      "text/plain": [
       "2"
      ]
     },
     "execution_count": 8,
     "metadata": {},
     "output_type": "execute_result"
    }
   ],
   "source": [
    "myDBSCANLabels, myDBSCANLabelCounter = dbscan(X, parameters_acc[0][0], parameters_acc[0][1])\n",
    "myDBSCANLabelCounter"
   ]
  },
  {
   "cell_type": "code",
   "execution_count": 9,
   "id": "b782a170",
   "metadata": {},
   "outputs": [
    {
     "data": {
      "text/plain": [
       "np.float64(0.8866666666666667)"
      ]
     },
     "execution_count": 9,
     "metadata": {},
     "output_type": "execute_result"
    }
   ],
   "source": [
    "clustering_accuracy(y, myDBSCANLabels)"
   ]
  },
  {
   "cell_type": "code",
   "execution_count": 10,
   "id": "5245f18b",
   "metadata": {},
   "outputs": [],
   "source": [
    "import matplotlib.colors as mcolors\n",
    "colors = list(mcolors.CSS4_COLORS.values())\n",
    "np.random.shuffle(colors)"
   ]
  },
  {
   "cell_type": "code",
   "execution_count": 11,
   "id": "890e84a4",
   "metadata": {},
   "outputs": [
    {
     "data": {
      "text/plain": [
       "array([0, 1, 2])"
      ]
     },
     "execution_count": 11,
     "metadata": {},
     "output_type": "execute_result"
    }
   ],
   "source": [
    "np.unique(myDBSCANLabels)"
   ]
  },
  {
   "cell_type": "code",
   "execution_count": 12,
   "id": "b77f7479",
   "metadata": {},
   "outputs": [
    {
     "data": {
      "image/png": "[encoded data removed]",
      "text/plain": [
       "<Figure size 800x600 with 1 Axes>"
      ]
     },
     "metadata": {},
     "output_type": "display_data"
    }
   ],
   "source": [
    "plt.figure(figsize=(8, 6))\n",
    "for i in np.unique(myDBSCANLabels):\n",
    "    cluster_points = X[myDBSCANLabels == i]\n",
    "    color = colors[i % len(colors)]\n",
    "    label_name = 'Noise' if i == -1 else f'Cluster {i}'\n",
    "    plt.scatter(cluster_points[:, 0], cluster_points[:, 1], color=color, label=label_name, edgecolor='k')\n",
    "plt.xlabel('Feature 1')\n",
    "plt.ylabel('Feature 2')\n",
    "plt.title('DBSCAN Clusters (using labels)')\n",
    "plt.legend()\n",
    "plt.show()\n"
   ]
  }
 ],
 "metadata": {
  "kernelspec": {
   "display_name": "env",
   "language": "python",
   "name": "python3"
  },
  "language_info": {
   "codemirror_mode": {
    "name": "ipython",
    "version": 3
   },
   "file_extension": ".py",
   "mimetype": "text/x-python",
   "name": "python",
   "nbconvert_exporter": "python",
   "pygments_lexer": "ipython3",
   "version": "3.12.3"
  }
 },
 "nbformat": 4,
 "nbformat_minor": 5
}
